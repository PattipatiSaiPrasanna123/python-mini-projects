{
  "nbformat": 4,
  "nbformat_minor": 0,
  "metadata": {
    "colab": {
      "provenance": [],
      "authorship_tag": "ABX9TyNZg0/9ax3g+gZv3wNpzD/g",
      "include_colab_link": true
    },
    "kernelspec": {
      "name": "python3",
      "display_name": "Python 3"
    },
    "language_info": {
      "name": "python"
    }
  },
  "cells": [
    {
      "cell_type": "markdown",
      "metadata": {
        "id": "view-in-github",
        "colab_type": "text"
      },
      "source": [
        "<a href=\"https://colab.research.google.com/github/PattipatiSaiPrasanna123/python-mini-projects/blob/main/Numpy.ipynb\" target=\"_parent\"><img src=\"https://colab.research.google.com/assets/colab-badge.svg\" alt=\"Open In Colab\"/></a>"
      ]
    },
    {
      "cell_type": "code",
      "execution_count": null,
      "metadata": {
        "id": "DtEjn9jhtpbM"
      },
      "outputs": [],
      "source": [
        "\n",
        "#Numpy-Numeric python\n",
        "# most powerful package-library\n",
        "# Numpy-dimemsions\n",
        "#A-one dimension array\n",
        "#[A,B]||[A\n",
        "        #B]-Two dimensional Array-row||column\n",
        "#Three Dimensional\n",
        "#Array -staring,manipulating,similar Data type\n",
        "#Faster than any mathematical function A\n",
        "#memory efficiency\n",
        "#support multi dimensional arrays\n",
        "#speed(Numpy operations)>speed(Lists operations)"
      ]
    },
    {
      "cell_type": "code",
      "source": [
        "#install numpy - pip3 install numpy//pip install numpy"
      ],
      "metadata": {
        "id": "-1Q3KB5_v4bW"
      },
      "execution_count": null,
      "outputs": []
    },
    {
      "cell_type": "code",
      "source": [
        "import numpy as np"
      ],
      "metadata": {
        "id": "G5_z4EZ5wETa"
      },
      "execution_count": null,
      "outputs": []
    },
    {
      "cell_type": "code",
      "source": [
        "arr1D = np.array([1,2,3,4,5] )\n",
        "print(arr1D)"
      ],
      "metadata": {
        "colab": {
          "base_uri": "https://localhost:8080/"
        },
        "id": "RvkTywKUwEz5",
        "outputId": "faf295a7-7805-4ff0-f01b-72316746d1cb"
      },
      "execution_count": null,
      "outputs": [
        {
          "output_type": "stream",
          "name": "stdout",
          "text": [
            "[1 2 3 4 5]\n"
          ]
        }
      ]
    },
    {
      "cell_type": "code",
      "source": [
        "arr2D = np.array([\n",
        "     [1,2,3],[4,5,6]\n",
        "])\n",
        "print(arr2D)"
      ],
      "metadata": {
        "colab": {
          "base_uri": "https://localhost:8080/"
        },
        "id": "Jfzw8H5PwE9I",
        "outputId": "26da10f6-1c42-44e0-908e-98e9fc2ad79b"
      },
      "execution_count": null,
      "outputs": [
        {
          "output_type": "stream",
          "name": "stdout",
          "text": [
            "[[1 2 3]\n",
            " [4 5 6]]\n"
          ]
        }
      ]
    },
    {
      "cell_type": "code",
      "source": [
        "allZeros = np.zeros((2,3))\n",
        "print(allZeros)"
      ],
      "metadata": {
        "colab": {
          "base_uri": "https://localhost:8080/"
        },
        "id": "a7CcoXF_wFc3",
        "outputId": "2548eeee-f623-43dc-d4d4-54dfa085ef01"
      },
      "execution_count": null,
      "outputs": [
        {
          "output_type": "stream",
          "name": "stdout",
          "text": [
            "[[0. 0. 0.]\n",
            " [0. 0. 0.]]\n"
          ]
        }
      ]
    },
    {
      "cell_type": "code",
      "source": [
        "allOnes = np.ones((2,3))\n",
        "print(allOnes)"
      ],
      "metadata": {
        "colab": {
          "base_uri": "https://localhost:8080/"
        },
        "id": "z-ogb4kjwFwS",
        "outputId": "62f7dbb0-d4bc-487f-ba1c-d3862d7284d3"
      },
      "execution_count": null,
      "outputs": [
        {
          "output_type": "stream",
          "name": "stdout",
          "text": [
            "[[1. 1. 1.]\n",
            " [1. 1. 1.]]\n"
          ]
        }
      ]
    },
    {
      "cell_type": "code",
      "source": [
        "allConstant = np.full((2,3),6)\n",
        "print(allConstant)"
      ],
      "metadata": {
        "colab": {
          "base_uri": "https://localhost:8080/"
        },
        "id": "-iBFmGqKwGBH",
        "outputId": "ef9c82b8-eed5-4f23-a8e3-2f4c911a6910"
      },
      "execution_count": null,
      "outputs": [
        {
          "output_type": "stream",
          "name": "stdout",
          "text": [
            "[[6 6 6]\n",
            " [6 6 6]]\n"
          ]
        }
      ]
    },
    {
      "cell_type": "code",
      "source": [
        "identity = np.eye(4)\n",
        "print(identity)"
      ],
      "metadata": {
        "colab": {
          "base_uri": "https://localhost:8080/"
        },
        "id": "m0nUsCIhwGYq",
        "outputId": "34b545af-8295-4ff2-f2b6-8891ca7b3da8"
      },
      "execution_count": null,
      "outputs": [
        {
          "output_type": "stream",
          "name": "stdout",
          "text": [
            "[[1. 0. 0. 0.]\n",
            " [0. 1. 0. 0.]\n",
            " [0. 0. 1. 0.]\n",
            " [0. 0. 0. 1.]]\n"
          ]
        }
      ]
    },
    {
      "cell_type": "code",
      "source": [
        "\n",
        "#Identity Matrix -Aii = 1 && Aij = 0\n",
        "#For all A belongs to R MxN\n",
        "#Aij -"
      ],
      "metadata": {
        "id": "n9BKnWukwGsh"
      },
      "execution_count": null,
      "outputs": []
    },
    {
      "cell_type": "code",
      "source": [
        "rand1 = np.random.rand(3,3)\n",
        "print(rand1)"
      ],
      "metadata": {
        "colab": {
          "base_uri": "https://localhost:8080/"
        },
        "id": "OXR6tUiTwG-Y",
        "outputId": "80e29257-3fde-4b6e-e270-0b5915465f7e"
      },
      "execution_count": null,
      "outputs": [
        {
          "output_type": "stream",
          "name": "stdout",
          "text": [
            "[[0.84628724 0.10772356 0.01769269]\n",
            " [0.56550001 0.77760029 0.22824899]\n",
            " [0.53788332 0.25546695 0.35193369]]\n"
          ]
        }
      ]
    },
    {
      "cell_type": "code",
      "source": [
        "rand2 = np.random.randint(10,20,(3,3))\n",
        "print(rand2)"
      ],
      "metadata": {
        "colab": {
          "base_uri": "https://localhost:8080/"
        },
        "id": "-IeT4caAwHSa",
        "outputId": "1eabc9c9-5fcb-4362-ffe3-5d574323bace"
      },
      "execution_count": null,
      "outputs": [
        {
          "output_type": "stream",
          "name": "stdout",
          "text": [
            "[[18 19 17]\n",
            " [13 11 19]\n",
            " [11 16 15]]\n"
          ]
        }
      ]
    },
    {
      "cell_type": "code",
      "source": [
        "\n",
        "# Array properties\n",
        "arr=np.array(([1,2,3,4],[2,3,4,5]))\n",
        "print(arr)\n",
        "# Shape of the array\n",
        "print(f'The shape of the array is {arr.shape}')\n",
        "# Size of array\n",
        "print(f'The size of the array is {arr.size}')\n",
        "#Datatype of array\n",
        "print(f'The Data type of the array is {arr.dtype}')\n",
        "#Dimensions of array\n",
        "print(f'The Dimension of the array is {arr.ndim}')"
      ],
      "metadata": {
        "id": "a6s7m1GHwHkZ",
        "colab": {
          "base_uri": "https://localhost:8080/"
        },
        "outputId": "4157fd6c-c6f4-4d62-a449-c2e7a069a423"
      },
      "execution_count": null,
      "outputs": [
        {
          "output_type": "stream",
          "name": "stdout",
          "text": [
            "[[1 2 3 4]\n",
            " [2 3 4 5]]\n",
            "The shape of the array is (2, 4)\n",
            "The size of the array is 8\n",
            "The Data type of the array is int64\n",
            "The Dimension of the array is 2\n"
          ]
        }
      ]
    },
    {
      "cell_type": "code",
      "source": [
        "\n",
        "# Indexing and Slicing\n",
        "\n",
        "# Access the elements in 1D Array\n",
        "\n",
        "arr =np.array([1,2,3,4])\n",
        "print(arr)\n",
        "print(arr[3])\n",
        "\n",
        "# Slicing the elements\n",
        "print(arr[0:3])\n",
        "\n",
        "# Access the elements in 2D Array\n",
        "arr2 = np.array(([1,2,3],[2,3,4]))\n",
        "print(arr2)\n",
        "print(arr2[1,1])\n",
        "print(arr2[0,:])#first row with all Column\n",
        "print(arr2[:,0])#first column with all rows"
      ],
      "metadata": {
        "id": "OW-SU_Y-wH3k",
        "colab": {
          "base_uri": "https://localhost:8080/"
        },
        "outputId": "d902ee25-c02d-48ee-aaf1-09595249a9bd"
      },
      "execution_count": null,
      "outputs": [
        {
          "output_type": "stream",
          "name": "stdout",
          "text": [
            "[1 2 3 4]\n",
            "4\n",
            "[1 2 3]\n",
            "[[1 2 3]\n",
            " [2 3 4]]\n",
            "3\n",
            "[1 2 3]\n",
            "[1 2]\n"
          ]
        }
      ]
    },
    {
      "cell_type": "code",
      "source": [
        "l1 = np.arange(0,10,2)\n",
        "print(l1)"
      ],
      "metadata": {
        "id": "xzgpP94mwILN",
        "colab": {
          "base_uri": "https://localhost:8080/"
        },
        "outputId": "df95e008-9096-49e3-ace6-78b12ed18283"
      },
      "execution_count": null,
      "outputs": [
        {
          "output_type": "stream",
          "name": "stdout",
          "text": [
            "[0 2 4 6 8]\n"
          ]
        }
      ]
    },
    {
      "cell_type": "code",
      "source": [
        "a = np.array([1,2,3])\n",
        "b = np.array ([3,4,5])\n",
        "print(f'The sum of a and b is {a+b}')\n",
        "print(f'The diff of a and b is {a-b}')\n",
        "print(f'The product of a and b is {a*b}')\n",
        "print(f'The division of a and b is {a/b}')"
      ],
      "metadata": {
        "colab": {
          "base_uri": "https://localhost:8080/"
        },
        "id": "D0OBIeTEB-Ym",
        "outputId": "a06c3dd5-7223-4f43-c4db-c03ea9ca9e03"
      },
      "execution_count": null,
      "outputs": [
        {
          "output_type": "stream",
          "name": "stdout",
          "text": [
            "The sum of a and b is [4 6 8]\n",
            "The diff of a and b is [-2 -2 -2]\n",
            "The product of a and b is [ 3  8 15]\n",
            "The division of a and b is [0.33333333 0.5        0.6       ]\n"
          ]
        }
      ]
    },
    {
      "cell_type": "code",
      "source": [
        "b1 = np.array([[1,2,3], [2,3,4]])\n",
        "b2 = np.array([[5,6],[7,8],[1,3]])\n",
        "\n",
        "c = np.dot(b1,b2)\n",
        "print(c)"
      ],
      "metadata": {
        "colab": {
          "base_uri": "https://localhost:8080/"
        },
        "id": "lFdF6-8GC98A",
        "outputId": "cab19c70-aee7-41a2-c421-b37f44a6ecc0"
      },
      "execution_count": null,
      "outputs": [
        {
          "output_type": "stream",
          "name": "stdout",
          "text": [
            "[[22 31]\n",
            " [35 48]]\n"
          ]
        }
      ]
    },
    {
      "cell_type": "code",
      "source": [
        "b1\n",
        "b2"
      ],
      "metadata": {
        "colab": {
          "base_uri": "https://localhost:8080/"
        },
        "id": "7QNQ6FhfE1K8",
        "outputId": "15b521f7-d0fa-4700-9b8a-e845de74f572"
      },
      "execution_count": null,
      "outputs": [
        {
          "output_type": "execute_result",
          "data": {
            "text/plain": [
              "array([[5, 6],\n",
              "       [7, 8],\n",
              "       [1, 3]])"
            ]
          },
          "metadata": {},
          "execution_count": 39
        }
      ]
    },
    {
      "cell_type": "code",
      "source": [
        "print(b1)"
      ],
      "metadata": {
        "colab": {
          "base_uri": "https://localhost:8080/"
        },
        "id": "xYADLK4LE2SX",
        "outputId": "e9c9dde6-b6e1-4a74-fbb6-4b84490409df"
      },
      "execution_count": null,
      "outputs": [
        {
          "output_type": "stream",
          "name": "stdout",
          "text": [
            "[[1 2 3]\n",
            " [2 3 4]]\n"
          ]
        }
      ]
    },
    {
      "cell_type": "code",
      "source": [
        "print(b2)"
      ],
      "metadata": {
        "colab": {
          "base_uri": "https://localhost:8080/"
        },
        "id": "JKoCS3DFE3ca",
        "outputId": "1f653999-94d9-4f65-927d-cdf7e580a57c"
      },
      "execution_count": null,
      "outputs": [
        {
          "output_type": "stream",
          "name": "stdout",
          "text": [
            "[[5 6]\n",
            " [7 8]\n",
            " [1 3]]\n"
          ]
        }
      ]
    },
    {
      "cell_type": "code",
      "source": [],
      "metadata": {
        "id": "inEAlOc_E4PZ"
      },
      "execution_count": 45,
      "outputs": []
    }
  ]
}